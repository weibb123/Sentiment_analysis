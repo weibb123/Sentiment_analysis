{
  "nbformat": 4,
  "nbformat_minor": 0,
  "metadata": {
    "colab": {
      "provenance": [],
      "authorship_tag": "ABX9TyMT8aok1nooNFft+WFjaaG6",
      "include_colab_link": true
    },
    "kernelspec": {
      "name": "python3",
      "display_name": "Python 3"
    },
    "language_info": {
      "name": "python"
    },
    "widgets": {
      "application/vnd.jupyter.widget-state+json": {
        "4c5fc9951a644869848e6e81247b236e": {
          "model_module": "@jupyter-widgets/controls",
          "model_name": "HBoxModel",
          "model_module_version": "1.5.0",
          "state": {
            "_dom_classes": [],
            "_model_module": "@jupyter-widgets/controls",
            "_model_module_version": "1.5.0",
            "_model_name": "HBoxModel",
            "_view_count": null,
            "_view_module": "@jupyter-widgets/controls",
            "_view_module_version": "1.5.0",
            "_view_name": "HBoxView",
            "box_style": "",
            "children": [
              "IPY_MODEL_4208dedbb84e48d89054e771424093b6",
              "IPY_MODEL_835d85ec31284f61a4688702c183e4a1",
              "IPY_MODEL_705e0e63453c4d5290c2112e66928185"
            ],
            "layout": "IPY_MODEL_16dd3b22232c41f5916eb0fef8c55daf"
          }
        },
        "4208dedbb84e48d89054e771424093b6": {
          "model_module": "@jupyter-widgets/controls",
          "model_name": "HTMLModel",
          "model_module_version": "1.5.0",
          "state": {
            "_dom_classes": [],
            "_model_module": "@jupyter-widgets/controls",
            "_model_module_version": "1.5.0",
            "_model_name": "HTMLModel",
            "_view_count": null,
            "_view_module": "@jupyter-widgets/controls",
            "_view_module_version": "1.5.0",
            "_view_name": "HTMLView",
            "description": "",
            "description_tooltip": null,
            "layout": "IPY_MODEL_b6b38c46bae14ce581eeb35d9884449c",
            "placeholder": "​",
            "style": "IPY_MODEL_9c0166b3c42d437c9920ce8c96f27f9f",
            "value": "Downloading pytorch_model.bin: 100%"
          }
        },
        "835d85ec31284f61a4688702c183e4a1": {
          "model_module": "@jupyter-widgets/controls",
          "model_name": "FloatProgressModel",
          "model_module_version": "1.5.0",
          "state": {
            "_dom_classes": [],
            "_model_module": "@jupyter-widgets/controls",
            "_model_module_version": "1.5.0",
            "_model_name": "FloatProgressModel",
            "_view_count": null,
            "_view_module": "@jupyter-widgets/controls",
            "_view_module_version": "1.5.0",
            "_view_name": "ProgressView",
            "bar_style": "success",
            "description": "",
            "description_tooltip": null,
            "layout": "IPY_MODEL_e0b73db4595846e39f0a680c1767425e",
            "max": 669491321,
            "min": 0,
            "orientation": "horizontal",
            "style": "IPY_MODEL_feeaaa22c27a445a9c1afe8446c1500c",
            "value": 669491321
          }
        },
        "705e0e63453c4d5290c2112e66928185": {
          "model_module": "@jupyter-widgets/controls",
          "model_name": "HTMLModel",
          "model_module_version": "1.5.0",
          "state": {
            "_dom_classes": [],
            "_model_module": "@jupyter-widgets/controls",
            "_model_module_version": "1.5.0",
            "_model_name": "HTMLModel",
            "_view_count": null,
            "_view_module": "@jupyter-widgets/controls",
            "_view_module_version": "1.5.0",
            "_view_name": "HTMLView",
            "description": "",
            "description_tooltip": null,
            "layout": "IPY_MODEL_c67804c817fb4bd291d93bbf2f891aac",
            "placeholder": "​",
            "style": "IPY_MODEL_878a1d483f1b477f8ce53e84d499d097",
            "value": " 638M/638M [00:14&lt;00:00, 47.8MB/s]"
          }
        },
        "16dd3b22232c41f5916eb0fef8c55daf": {
          "model_module": "@jupyter-widgets/base",
          "model_name": "LayoutModel",
          "model_module_version": "1.2.0",
          "state": {
            "_model_module": "@jupyter-widgets/base",
            "_model_module_version": "1.2.0",
            "_model_name": "LayoutModel",
            "_view_count": null,
            "_view_module": "@jupyter-widgets/base",
            "_view_module_version": "1.2.0",
            "_view_name": "LayoutView",
            "align_content": null,
            "align_items": null,
            "align_self": null,
            "border": null,
            "bottom": null,
            "display": null,
            "flex": null,
            "flex_flow": null,
            "grid_area": null,
            "grid_auto_columns": null,
            "grid_auto_flow": null,
            "grid_auto_rows": null,
            "grid_column": null,
            "grid_gap": null,
            "grid_row": null,
            "grid_template_areas": null,
            "grid_template_columns": null,
            "grid_template_rows": null,
            "height": null,
            "justify_content": null,
            "justify_items": null,
            "left": null,
            "margin": null,
            "max_height": null,
            "max_width": null,
            "min_height": null,
            "min_width": null,
            "object_fit": null,
            "object_position": null,
            "order": null,
            "overflow": null,
            "overflow_x": null,
            "overflow_y": null,
            "padding": null,
            "right": null,
            "top": null,
            "visibility": null,
            "width": null
          }
        },
        "b6b38c46bae14ce581eeb35d9884449c": {
          "model_module": "@jupyter-widgets/base",
          "model_name": "LayoutModel",
          "model_module_version": "1.2.0",
          "state": {
            "_model_module": "@jupyter-widgets/base",
            "_model_module_version": "1.2.0",
            "_model_name": "LayoutModel",
            "_view_count": null,
            "_view_module": "@jupyter-widgets/base",
            "_view_module_version": "1.2.0",
            "_view_name": "LayoutView",
            "align_content": null,
            "align_items": null,
            "align_self": null,
            "border": null,
            "bottom": null,
            "display": null,
            "flex": null,
            "flex_flow": null,
            "grid_area": null,
            "grid_auto_columns": null,
            "grid_auto_flow": null,
            "grid_auto_rows": null,
            "grid_column": null,
            "grid_gap": null,
            "grid_row": null,
            "grid_template_areas": null,
            "grid_template_columns": null,
            "grid_template_rows": null,
            "height": null,
            "justify_content": null,
            "justify_items": null,
            "left": null,
            "margin": null,
            "max_height": null,
            "max_width": null,
            "min_height": null,
            "min_width": null,
            "object_fit": null,
            "object_position": null,
            "order": null,
            "overflow": null,
            "overflow_x": null,
            "overflow_y": null,
            "padding": null,
            "right": null,
            "top": null,
            "visibility": null,
            "width": null
          }
        },
        "9c0166b3c42d437c9920ce8c96f27f9f": {
          "model_module": "@jupyter-widgets/controls",
          "model_name": "DescriptionStyleModel",
          "model_module_version": "1.5.0",
          "state": {
            "_model_module": "@jupyter-widgets/controls",
            "_model_module_version": "1.5.0",
            "_model_name": "DescriptionStyleModel",
            "_view_count": null,
            "_view_module": "@jupyter-widgets/base",
            "_view_module_version": "1.2.0",
            "_view_name": "StyleView",
            "description_width": ""
          }
        },
        "e0b73db4595846e39f0a680c1767425e": {
          "model_module": "@jupyter-widgets/base",
          "model_name": "LayoutModel",
          "model_module_version": "1.2.0",
          "state": {
            "_model_module": "@jupyter-widgets/base",
            "_model_module_version": "1.2.0",
            "_model_name": "LayoutModel",
            "_view_count": null,
            "_view_module": "@jupyter-widgets/base",
            "_view_module_version": "1.2.0",
            "_view_name": "LayoutView",
            "align_content": null,
            "align_items": null,
            "align_self": null,
            "border": null,
            "bottom": null,
            "display": null,
            "flex": null,
            "flex_flow": null,
            "grid_area": null,
            "grid_auto_columns": null,
            "grid_auto_flow": null,
            "grid_auto_rows": null,
            "grid_column": null,
            "grid_gap": null,
            "grid_row": null,
            "grid_template_areas": null,
            "grid_template_columns": null,
            "grid_template_rows": null,
            "height": null,
            "justify_content": null,
            "justify_items": null,
            "left": null,
            "margin": null,
            "max_height": null,
            "max_width": null,
            "min_height": null,
            "min_width": null,
            "object_fit": null,
            "object_position": null,
            "order": null,
            "overflow": null,
            "overflow_x": null,
            "overflow_y": null,
            "padding": null,
            "right": null,
            "top": null,
            "visibility": null,
            "width": null
          }
        },
        "feeaaa22c27a445a9c1afe8446c1500c": {
          "model_module": "@jupyter-widgets/controls",
          "model_name": "ProgressStyleModel",
          "model_module_version": "1.5.0",
          "state": {
            "_model_module": "@jupyter-widgets/controls",
            "_model_module_version": "1.5.0",
            "_model_name": "ProgressStyleModel",
            "_view_count": null,
            "_view_module": "@jupyter-widgets/base",
            "_view_module_version": "1.2.0",
            "_view_name": "StyleView",
            "bar_color": null,
            "description_width": ""
          }
        },
        "c67804c817fb4bd291d93bbf2f891aac": {
          "model_module": "@jupyter-widgets/base",
          "model_name": "LayoutModel",
          "model_module_version": "1.2.0",
          "state": {
            "_model_module": "@jupyter-widgets/base",
            "_model_module_version": "1.2.0",
            "_model_name": "LayoutModel",
            "_view_count": null,
            "_view_module": "@jupyter-widgets/base",
            "_view_module_version": "1.2.0",
            "_view_name": "LayoutView",
            "align_content": null,
            "align_items": null,
            "align_self": null,
            "border": null,
            "bottom": null,
            "display": null,
            "flex": null,
            "flex_flow": null,
            "grid_area": null,
            "grid_auto_columns": null,
            "grid_auto_flow": null,
            "grid_auto_rows": null,
            "grid_column": null,
            "grid_gap": null,
            "grid_row": null,
            "grid_template_areas": null,
            "grid_template_columns": null,
            "grid_template_rows": null,
            "height": null,
            "justify_content": null,
            "justify_items": null,
            "left": null,
            "margin": null,
            "max_height": null,
            "max_width": null,
            "min_height": null,
            "min_width": null,
            "object_fit": null,
            "object_position": null,
            "order": null,
            "overflow": null,
            "overflow_x": null,
            "overflow_y": null,
            "padding": null,
            "right": null,
            "top": null,
            "visibility": null,
            "width": null
          }
        },
        "878a1d483f1b477f8ce53e84d499d097": {
          "model_module": "@jupyter-widgets/controls",
          "model_name": "DescriptionStyleModel",
          "model_module_version": "1.5.0",
          "state": {
            "_model_module": "@jupyter-widgets/controls",
            "_model_module_version": "1.5.0",
            "_model_name": "DescriptionStyleModel",
            "_view_count": null,
            "_view_module": "@jupyter-widgets/base",
            "_view_module_version": "1.2.0",
            "_view_name": "StyleView",
            "description_width": ""
          }
        }
      }
    }
  },
  "cells": [
    {
      "cell_type": "markdown",
      "metadata": {
        "id": "view-in-github",
        "colab_type": "text"
      },
      "source": [
        "<a href=\"https://colab.research.google.com/github/weibb123/Sentiment_analysis/blob/main/Sentiment_yelp_my_restuarant.ipynb\" target=\"_parent\"><img src=\"https://colab.research.google.com/assets/colab-badge.svg\" alt=\"Open In Colab\"/></a>"
      ]
    },
    {
      "cell_type": "code",
      "source": [
        "pip install transformers requests beautifulsoup4 pandas numpy"
      ],
      "metadata": {
        "colab": {
          "base_uri": "https://localhost:8080/"
        },
        "id": "Zfru--EVuBBf",
        "outputId": "dd81f112-b29e-4597-b3cd-cdd261511b9c"
      },
      "execution_count": null,
      "outputs": [
        {
          "output_type": "stream",
          "name": "stdout",
          "text": [
            "Looking in indexes: https://pypi.org/simple, https://us-python.pkg.dev/colab-wheels/public/simple/\n",
            "Collecting transformers\n",
            "  Downloading transformers-4.21.1-py3-none-any.whl (4.7 MB)\n",
            "\u001b[K     |████████████████████████████████| 4.7 MB 28.0 MB/s \n",
            "\u001b[?25hRequirement already satisfied: requests in /usr/local/lib/python3.7/dist-packages (2.23.0)\n",
            "Requirement already satisfied: beautifulsoup4 in /usr/local/lib/python3.7/dist-packages (4.6.3)\n",
            "Requirement already satisfied: pandas in /usr/local/lib/python3.7/dist-packages (1.3.5)\n",
            "Requirement already satisfied: numpy in /usr/local/lib/python3.7/dist-packages (1.21.6)\n",
            "Requirement already satisfied: importlib-metadata in /usr/local/lib/python3.7/dist-packages (from transformers) (4.12.0)\n",
            "Requirement already satisfied: packaging>=20.0 in /usr/local/lib/python3.7/dist-packages (from transformers) (21.3)\n",
            "Collecting pyyaml>=5.1\n",
            "  Downloading PyYAML-6.0-cp37-cp37m-manylinux_2_5_x86_64.manylinux1_x86_64.manylinux_2_12_x86_64.manylinux2010_x86_64.whl (596 kB)\n",
            "\u001b[K     |████████████████████████████████| 596 kB 59.6 MB/s \n",
            "\u001b[?25hRequirement already satisfied: tqdm>=4.27 in /usr/local/lib/python3.7/dist-packages (from transformers) (4.64.0)\n",
            "Collecting tokenizers!=0.11.3,<0.13,>=0.11.1\n",
            "  Downloading tokenizers-0.12.1-cp37-cp37m-manylinux_2_12_x86_64.manylinux2010_x86_64.whl (6.6 MB)\n",
            "\u001b[K     |████████████████████████████████| 6.6 MB 51.5 MB/s \n",
            "\u001b[?25hRequirement already satisfied: regex!=2019.12.17 in /usr/local/lib/python3.7/dist-packages (from transformers) (2022.6.2)\n",
            "Requirement already satisfied: filelock in /usr/local/lib/python3.7/dist-packages (from transformers) (3.7.1)\n",
            "Collecting huggingface-hub<1.0,>=0.1.0\n",
            "  Downloading huggingface_hub-0.8.1-py3-none-any.whl (101 kB)\n",
            "\u001b[K     |████████████████████████████████| 101 kB 13.2 MB/s \n",
            "\u001b[?25hRequirement already satisfied: typing-extensions>=3.7.4.3 in /usr/local/lib/python3.7/dist-packages (from huggingface-hub<1.0,>=0.1.0->transformers) (4.1.1)\n",
            "Requirement already satisfied: pyparsing!=3.0.5,>=2.0.2 in /usr/local/lib/python3.7/dist-packages (from packaging>=20.0->transformers) (3.0.9)\n",
            "Requirement already satisfied: idna<3,>=2.5 in /usr/local/lib/python3.7/dist-packages (from requests) (2.10)\n",
            "Requirement already satisfied: certifi>=2017.4.17 in /usr/local/lib/python3.7/dist-packages (from requests) (2022.6.15)\n",
            "Requirement already satisfied: urllib3!=1.25.0,!=1.25.1,<1.26,>=1.21.1 in /usr/local/lib/python3.7/dist-packages (from requests) (1.24.3)\n",
            "Requirement already satisfied: chardet<4,>=3.0.2 in /usr/local/lib/python3.7/dist-packages (from requests) (3.0.4)\n",
            "Requirement already satisfied: pytz>=2017.3 in /usr/local/lib/python3.7/dist-packages (from pandas) (2022.1)\n",
            "Requirement already satisfied: python-dateutil>=2.7.3 in /usr/local/lib/python3.7/dist-packages (from pandas) (2.8.2)\n",
            "Requirement already satisfied: six>=1.5 in /usr/local/lib/python3.7/dist-packages (from python-dateutil>=2.7.3->pandas) (1.15.0)\n",
            "Requirement already satisfied: zipp>=0.5 in /usr/local/lib/python3.7/dist-packages (from importlib-metadata->transformers) (3.8.1)\n",
            "Installing collected packages: pyyaml, tokenizers, huggingface-hub, transformers\n",
            "  Attempting uninstall: pyyaml\n",
            "    Found existing installation: PyYAML 3.13\n",
            "    Uninstalling PyYAML-3.13:\n",
            "      Successfully uninstalled PyYAML-3.13\n",
            "Successfully installed huggingface-hub-0.8.1 pyyaml-6.0 tokenizers-0.12.1 transformers-4.21.1\n"
          ]
        }
      ]
    },
    {
      "cell_type": "markdown",
      "source": [
        "# Introduction\n",
        "\n",
        "\n",
        "*   Procedure\n",
        "*   Conclusion\n",
        "\n",
        "\n",
        "\n",
        "In this notebook, we will be using beautifulsoup to obtain review from yelp then apply the model from huggingface to perform sentiment analysis. \\\n",
        "<b> Sentiment Analysis </b> - given a sentence, we will use machine learning algorithm or deep learning to predict whether this sentence conveys positive, neutral, negative feelings."
      ],
      "metadata": {
        "id": "XDBvrwpgqqyu"
      }
    },
    {
      "cell_type": "markdown",
      "source": [
        "## Import libraries"
      ],
      "metadata": {
        "id": "UGb8B6OD4J7U"
      }
    },
    {
      "cell_type": "code",
      "execution_count": null,
      "metadata": {
        "id": "ZajDyly_tol3"
      },
      "outputs": [],
      "source": [
        "from transformers import AutoTokenizer, AutoModelForSequenceClassification\n",
        "import torch\n",
        "import tensorflow as tf\n",
        "import requests\n",
        "from bs4 import BeautifulSoup\n",
        "import re"
      ]
    },
    {
      "cell_type": "markdown",
      "source": [
        "## Instantiate Model"
      ],
      "metadata": {
        "id": "sBElk6HCuU1Q"
      }
    },
    {
      "cell_type": "code",
      "source": [
        "tokenizer = AutoTokenizer.from_pretrained('nlptown/bert-base-multilingual-uncased-sentiment')\n",
        "\n",
        "model = AutoModelForSequenceClassification.from_pretrained('nlptown/bert-base-multilingual-uncased-sentiment')"
      ],
      "metadata": {
        "colab": {
          "base_uri": "https://localhost:8080/",
          "height": 49,
          "referenced_widgets": [
            "4c5fc9951a644869848e6e81247b236e",
            "4208dedbb84e48d89054e771424093b6",
            "835d85ec31284f61a4688702c183e4a1",
            "705e0e63453c4d5290c2112e66928185",
            "16dd3b22232c41f5916eb0fef8c55daf",
            "b6b38c46bae14ce581eeb35d9884449c",
            "9c0166b3c42d437c9920ce8c96f27f9f",
            "e0b73db4595846e39f0a680c1767425e",
            "feeaaa22c27a445a9c1afe8446c1500c",
            "c67804c817fb4bd291d93bbf2f891aac",
            "878a1d483f1b477f8ce53e84d499d097"
          ]
        },
        "id": "si5y_2OTt9Zg",
        "outputId": "f0a4433a-1287-4b97-deec-a4ce706e131b"
      },
      "execution_count": null,
      "outputs": [
        {
          "output_type": "display_data",
          "data": {
            "text/plain": [
              "Downloading pytorch_model.bin:   0%|          | 0.00/638M [00:00<?, ?B/s]"
            ],
            "application/vnd.jupyter.widget-view+json": {
              "version_major": 2,
              "version_minor": 0,
              "model_id": "4c5fc9951a644869848e6e81247b236e"
            }
          },
          "metadata": {}
        }
      ]
    },
    {
      "cell_type": "markdown",
      "source": [
        "## Encode and Calculate Sentiment"
      ],
      "metadata": {
        "id": "KDg6zLcEvp9M"
      }
    },
    {
      "cell_type": "code",
      "source": [
        "tokens = tokenizer.encode('I dont like this place. It tastes bad', return_tensors='pt')\n"
      ],
      "metadata": {
        "id": "9Y9dDVlbulhO"
      },
      "execution_count": null,
      "outputs": []
    },
    {
      "cell_type": "markdown",
      "source": [
        "It has converted into a sequence of numbers. You can also decode back to original form"
      ],
      "metadata": {
        "id": "W9GUT04zyKtc"
      }
    },
    {
      "cell_type": "code",
      "source": [
        "tokens"
      ],
      "metadata": {
        "colab": {
          "base_uri": "https://localhost:8080/"
        },
        "id": "xOIHeprbyI-c",
        "outputId": "faa7d7a2-1363-4319-bcb0-b96dad3345d2"
      },
      "execution_count": null,
      "outputs": [
        {
          "output_type": "execute_result",
          "data": {
            "text/plain": [
              "tensor([[  101,   151, 11930, 11531, 10372, 11125,   119, 10197, 44960, 10107,\n",
              "         12428,   102]])"
            ]
          },
          "metadata": {},
          "execution_count": 8
        }
      ]
    },
    {
      "cell_type": "code",
      "source": [
        "result = model(tokens)\n",
        "result"
      ],
      "metadata": {
        "colab": {
          "base_uri": "https://localhost:8080/"
        },
        "id": "SA4s8wEL72qd",
        "outputId": "36694f88-8f96-4712-d8d7-2c9379bf15c7"
      },
      "execution_count": null,
      "outputs": [
        {
          "output_type": "execute_result",
          "data": {
            "text/plain": [
              "SequenceClassifierOutput([('logits',\n",
              "                           tensor([[ 1.7598,  1.8007,  0.7975, -1.3624, -2.3498]],\n",
              "                                  grad_fn=<AddmmBackward0>))])"
            ]
          },
          "metadata": {},
          "execution_count": 9
        }
      ]
    },
    {
      "cell_type": "markdown",
      "source": [
        "The output tensor is an one-hot encoded list of scores. The position with the highest score represent the sentiment rating."
      ],
      "metadata": {
        "id": "OChWS1FL8IIE"
      }
    },
    {
      "cell_type": "code",
      "source": [
        "# This rating is from 1 - 5. instead of from 0 to 4.\n",
        "int(torch.argmax(result.logits))+1"
      ],
      "metadata": {
        "colab": {
          "base_uri": "https://localhost:8080/"
        },
        "id": "6avxF4WP76-p",
        "outputId": "fed1c05c-1e5c-4eac-db83-5d5597d814d4"
      },
      "execution_count": null,
      "outputs": [
        {
          "output_type": "execute_result",
          "data": {
            "text/plain": [
              "1"
            ]
          },
          "metadata": {},
          "execution_count": 14
        }
      ]
    },
    {
      "cell_type": "markdown",
      "source": [
        "Rating is from 1 to 5 with 3 being neutral, 1 being negative and 5 being strongly positive."
      ],
      "metadata": {
        "id": "q8C3YQ2H_UOS"
      }
    },
    {
      "cell_type": "markdown",
      "source": [
        "## Collecting reviews from YELP\n",
        "\n",
        "My favorite ramen place. Best ever had... Buddha Ramen\\\n",
        "We will extract reviews for this place and then feed into our bert model\\\n",
        "\n",
        "Step 1: Make a request to this site\\\n",
        "Step 2: Each review is store in the comment section\n",
        "\n",
        "https://www.yelp.com/biz/red-white-ramen-newbury-st-boston-4?osq=buddha+ramen\\\n",
        "\n",
        "![Screen Shot 2022-08-14 at 4.39.23 PM.png](data:image/png;base64,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)"
      ],
      "metadata": {
        "id": "Snl5WGKC_wZq"
      }
    },
    {
      "cell_type": "code",
      "source": [
        "r = requests.get('https://www.yelp.com/biz/red-white-ramen-newbury-st-boston-4?osq=buddha+ramen')\n",
        "soup = BeautifulSoup(r.text, 'html.parser')\n",
        "# recall we find each review in the web class comment\n",
        "regex = re.compile('.*comment.*')\n",
        "# find_all looks for p in html then regex -> looks for comment\n",
        "results = soup.find_all('p', {'class': regex})\n",
        "\n",
        "# list comprehension find just the comment review\n",
        "reviews = [result.text for result in results]"
      ],
      "metadata": {
        "id": "mXUSqt4R-kVg"
      },
      "execution_count": null,
      "outputs": []
    },
    {
      "cell_type": "markdown",
      "source": [
        "# Load in dataframe then calculate Sentiment"
      ],
      "metadata": {
        "id": "yCUb5SrJGL_4"
      }
    },
    {
      "cell_type": "markdown",
      "source": [
        "why dataframe? easy to process data "
      ],
      "metadata": {
        "id": "L0kuc1AiHNdS"
      }
    },
    {
      "cell_type": "code",
      "source": [
        "import pandas as pd\n",
        "import numpy as np\n",
        "\n",
        "df = pd.DataFrame(np.array(reviews), columns=['review'])"
      ],
      "metadata": {
        "id": "6D2Nk6KsEmsw"
      },
      "execution_count": null,
      "outputs": []
    },
    {
      "cell_type": "code",
      "source": [
        "df.shape"
      ],
      "metadata": {
        "colab": {
          "base_uri": "https://localhost:8080/"
        },
        "id": "KmnA-iL5HI8G",
        "outputId": "9c363bbe-f203-4479-ba6a-55c55d273713"
      },
      "execution_count": null,
      "outputs": [
        {
          "output_type": "execute_result",
          "data": {
            "text/plain": [
              "(10, 2)"
            ]
          },
          "metadata": {},
          "execution_count": 28
        }
      ]
    },
    {
      "cell_type": "code",
      "source": [
        "# locate a single comment\n",
        "df['review'].iloc[0]"
      ],
      "metadata": {
        "colab": {
          "base_uri": "https://localhost:8080/",
          "height": 71
        },
        "id": "P-99EGlyHIeY",
        "outputId": "d4b09363-b57a-4d09-9d62-bd75d6d22a38"
      },
      "execution_count": null,
      "outputs": [
        {
          "output_type": "execute_result",
          "data": {
            "text/plain": [
              "'This is the best ramen I have ever had!!! \\xa0I never thought I would ever have a robust bowl of ramen again now that I am vegan because I have been let down so many times by other restaurants! The avocado and Mac and cheese are also AMAZING!!! \\xa0Red White is now my favorite restaurant in all of Massachusetts! We will be back many times. \\xa0Thank you for what you do!'"
            ],
            "application/vnd.google.colaboratory.intrinsic+json": {
              "type": "string"
            }
          },
          "metadata": {},
          "execution_count": 19
        }
      ]
    },
    {
      "cell_type": "markdown",
      "source": [
        "We will write a quick function so we can calculate sentiment of the reviews"
      ],
      "metadata": {
        "id": "s1UDnn5-NZlJ"
      }
    },
    {
      "cell_type": "code",
      "source": [
        "def cal_sentiment(review):\n",
        "  tokens = tokenizer.encode(review, return_tensors=('pt'))\n",
        "  result = model(tokens)\n",
        "  return int(torch.argmax(result.logits)) + 1"
      ],
      "metadata": {
        "id": "JH69H6K1NPUk"
      },
      "execution_count": null,
      "outputs": []
    },
    {
      "cell_type": "code",
      "source": [
        "# we can use lambda function so we can pass through the whole dataframe and calculate the sentiment\n",
        "# x[:512] -> grabbing only first 512 tokens(may change result of sentiment score). Tokenizer has a limit on token. \n",
        "df['sentiment'] = df['review'].apply(lambda x: cal_sentiment(x[:512]))"
      ],
      "metadata": {
        "id": "4es2phreOepx"
      },
      "execution_count": null,
      "outputs": []
    },
    {
      "cell_type": "code",
      "source": [
        "df"
      ],
      "metadata": {
        "colab": {
          "base_uri": "https://localhost:8080/",
          "height": 363
        },
        "id": "U8fkMgzVPmqO",
        "outputId": "bb059615-0a5b-4fad-834a-5161e9356af6"
      },
      "execution_count": null,
      "outputs": [
        {
          "output_type": "execute_result",
          "data": {
            "text/plain": [
              "                                              review  sentiment\n",
              "0  This is the best ramen I have ever had!!!  I n...          5\n",
              "1  Fantastic food and friendly staff. Love their ...          5\n",
              "2  one of my favorite restaurants in boston!every...          5\n",
              "3  I love Ramen and searched Yelp and places on N...          3\n",
              "4  This is hands down the best vegan ramen I have...          5\n",
              "5  I'm gonna say it-- this place is better than S...          4\n",
              "6  My friends and I were passing by during a shop...          4\n",
              "7  This is a hip kind of spot for the kiddies and...          5\n",
              "8  I was on a vegetarian ramen kick so when I saw...          2\n",
              "9  I found the ramen here to be so-so. More gimmi...          3"
            ],
            "text/html": [
              "\n",
              "  <div id=\"df-b1527562-c9c9-4afc-84b5-e7aae0862c7e\">\n",
              "    <div class=\"colab-df-container\">\n",
              "      <div>\n",
              "<style scoped>\n",
              "    .dataframe tbody tr th:only-of-type {\n",
              "        vertical-align: middle;\n",
              "    }\n",
              "\n",
              "    .dataframe tbody tr th {\n",
              "        vertical-align: top;\n",
              "    }\n",
              "\n",
              "    .dataframe thead th {\n",
              "        text-align: right;\n",
              "    }\n",
              "</style>\n",
              "<table border=\"1\" class=\"dataframe\">\n",
              "  <thead>\n",
              "    <tr style=\"text-align: right;\">\n",
              "      <th></th>\n",
              "      <th>review</th>\n",
              "      <th>sentiment</th>\n",
              "    </tr>\n",
              "  </thead>\n",
              "  <tbody>\n",
              "    <tr>\n",
              "      <th>0</th>\n",
              "      <td>This is the best ramen I have ever had!!!  I n...</td>\n",
              "      <td>5</td>\n",
              "    </tr>\n",
              "    <tr>\n",
              "      <th>1</th>\n",
              "      <td>Fantastic food and friendly staff. Love their ...</td>\n",
              "      <td>5</td>\n",
              "    </tr>\n",
              "    <tr>\n",
              "      <th>2</th>\n",
              "      <td>one of my favorite restaurants in boston!every...</td>\n",
              "      <td>5</td>\n",
              "    </tr>\n",
              "    <tr>\n",
              "      <th>3</th>\n",
              "      <td>I love Ramen and searched Yelp and places on N...</td>\n",
              "      <td>3</td>\n",
              "    </tr>\n",
              "    <tr>\n",
              "      <th>4</th>\n",
              "      <td>This is hands down the best vegan ramen I have...</td>\n",
              "      <td>5</td>\n",
              "    </tr>\n",
              "    <tr>\n",
              "      <th>5</th>\n",
              "      <td>I'm gonna say it-- this place is better than S...</td>\n",
              "      <td>4</td>\n",
              "    </tr>\n",
              "    <tr>\n",
              "      <th>6</th>\n",
              "      <td>My friends and I were passing by during a shop...</td>\n",
              "      <td>4</td>\n",
              "    </tr>\n",
              "    <tr>\n",
              "      <th>7</th>\n",
              "      <td>This is a hip kind of spot for the kiddies and...</td>\n",
              "      <td>5</td>\n",
              "    </tr>\n",
              "    <tr>\n",
              "      <th>8</th>\n",
              "      <td>I was on a vegetarian ramen kick so when I saw...</td>\n",
              "      <td>2</td>\n",
              "    </tr>\n",
              "    <tr>\n",
              "      <th>9</th>\n",
              "      <td>I found the ramen here to be so-so. More gimmi...</td>\n",
              "      <td>3</td>\n",
              "    </tr>\n",
              "  </tbody>\n",
              "</table>\n",
              "</div>\n",
              "      <button class=\"colab-df-convert\" onclick=\"convertToInteractive('df-b1527562-c9c9-4afc-84b5-e7aae0862c7e')\"\n",
              "              title=\"Convert this dataframe to an interactive table.\"\n",
              "              style=\"display:none;\">\n",
              "        \n",
              "  <svg xmlns=\"http://www.w3.org/2000/svg\" height=\"24px\"viewBox=\"0 0 24 24\"\n",
              "       width=\"24px\">\n",
              "    <path d=\"M0 0h24v24H0V0z\" fill=\"none\"/>\n",
              "    <path d=\"M18.56 5.44l.94 2.06.94-2.06 2.06-.94-2.06-.94-.94-2.06-.94 2.06-2.06.94zm-11 1L8.5 8.5l.94-2.06 2.06-.94-2.06-.94L8.5 2.5l-.94 2.06-2.06.94zm10 10l.94 2.06.94-2.06 2.06-.94-2.06-.94-.94-2.06-.94 2.06-2.06.94z\"/><path d=\"M17.41 7.96l-1.37-1.37c-.4-.4-.92-.59-1.43-.59-.52 0-1.04.2-1.43.59L10.3 9.45l-7.72 7.72c-.78.78-.78 2.05 0 2.83L4 21.41c.39.39.9.59 1.41.59.51 0 1.02-.2 1.41-.59l7.78-7.78 2.81-2.81c.8-.78.8-2.07 0-2.86zM5.41 20L4 18.59l7.72-7.72 1.47 1.35L5.41 20z\"/>\n",
              "  </svg>\n",
              "      </button>\n",
              "      \n",
              "  <style>\n",
              "    .colab-df-container {\n",
              "      display:flex;\n",
              "      flex-wrap:wrap;\n",
              "      gap: 12px;\n",
              "    }\n",
              "\n",
              "    .colab-df-convert {\n",
              "      background-color: #E8F0FE;\n",
              "      border: none;\n",
              "      border-radius: 50%;\n",
              "      cursor: pointer;\n",
              "      display: none;\n",
              "      fill: #1967D2;\n",
              "      height: 32px;\n",
              "      padding: 0 0 0 0;\n",
              "      width: 32px;\n",
              "    }\n",
              "\n",
              "    .colab-df-convert:hover {\n",
              "      background-color: #E2EBFA;\n",
              "      box-shadow: 0px 1px 2px rgba(60, 64, 67, 0.3), 0px 1px 3px 1px rgba(60, 64, 67, 0.15);\n",
              "      fill: #174EA6;\n",
              "    }\n",
              "\n",
              "    [theme=dark] .colab-df-convert {\n",
              "      background-color: #3B4455;\n",
              "      fill: #D2E3FC;\n",
              "    }\n",
              "\n",
              "    [theme=dark] .colab-df-convert:hover {\n",
              "      background-color: #434B5C;\n",
              "      box-shadow: 0px 1px 3px 1px rgba(0, 0, 0, 0.15);\n",
              "      filter: drop-shadow(0px 1px 2px rgba(0, 0, 0, 0.3));\n",
              "      fill: #FFFFFF;\n",
              "    }\n",
              "  </style>\n",
              "\n",
              "      <script>\n",
              "        const buttonEl =\n",
              "          document.querySelector('#df-b1527562-c9c9-4afc-84b5-e7aae0862c7e button.colab-df-convert');\n",
              "        buttonEl.style.display =\n",
              "          google.colab.kernel.accessAllowed ? 'block' : 'none';\n",
              "\n",
              "        async function convertToInteractive(key) {\n",
              "          const element = document.querySelector('#df-b1527562-c9c9-4afc-84b5-e7aae0862c7e');\n",
              "          const dataTable =\n",
              "            await google.colab.kernel.invokeFunction('convertToInteractive',\n",
              "                                                     [key], {});\n",
              "          if (!dataTable) return;\n",
              "\n",
              "          const docLinkHtml = 'Like what you see? Visit the ' +\n",
              "            '<a target=\"_blank\" href=https://colab.research.google.com/notebooks/data_table.ipynb>data table notebook</a>'\n",
              "            + ' to learn more about interactive tables.';\n",
              "          element.innerHTML = '';\n",
              "          dataTable['output_type'] = 'display_data';\n",
              "          await google.colab.output.renderOutput(dataTable, element);\n",
              "          const docLink = document.createElement('div');\n",
              "          docLink.innerHTML = docLinkHtml;\n",
              "          element.appendChild(docLink);\n",
              "        }\n",
              "      </script>\n",
              "    </div>\n",
              "  </div>\n",
              "  "
            ]
          },
          "metadata": {},
          "execution_count": 22
        }
      ]
    },
    {
      "cell_type": "code",
      "source": [],
      "metadata": {
        "id": "d1b23NTBP0wR"
      },
      "execution_count": null,
      "outputs": []
    }
  ]
}